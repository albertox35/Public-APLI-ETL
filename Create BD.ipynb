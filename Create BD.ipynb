{
 "cells": [
  {
   "cell_type": "markdown",
   "metadata": {},
   "source": [
    "# Importar Bibliotecas Necesarias\n"
   ]
  },
  {
   "cell_type": "code",
   "execution_count": 1,
   "metadata": {},
   "outputs": [],
   "source": [
    "# Importar Bibliotecas Necesarias\n",
    "import sqlite3\n",
    "import os\n",
    "\n",
    "local_path = os.getcwd()\n",
    "db_path_openweathermap = local_path + r'\\OpenWeatherMap\\openweathermap.db'\n",
    "db_path_newsapi = local_path + r'\\\\newsapi.db'\n",
    "db_path_coingecko = local_path + r'\\CoinGecko\\coingecko.db'\n",
    "db_path_twitter = local_path + r'\\\\tweets_data.db'\n",
    "\n",
    "\n"
   ]
  },
  {
   "cell_type": "markdown",
   "metadata": {},
   "source": [
    "# Base de datos OpenWeatherMap"
   ]
  },
  {
   "cell_type": "code",
   "execution_count": 2,
   "metadata": {},
   "outputs": [],
   "source": [
    "\n",
    "# Conectar a la base de datos (se creará automáticamente si no existe)\n",
    "conn = sqlite3.connect(db_path_openweathermap)\n",
    "cursor = conn.cursor()\n",
    "\n",
    "# Crear la tabla prediccion\n",
    "cursor.execute('''\n",
    "CREATE TABLE IF NOT EXISTS prediccion (\n",
    "    id INTEGER PRIMARY KEY AUTOINCREMENT,\n",
    "    fecha DATETIME NOT NULL,\n",
    "    fecha_de_prediccion DATETIME NOT NULL,\n",
    "    temperatura_celcius FLOAT,\n",
    "    temperatura_real_celcius FLOAT,\n",
    "    temperatura_minima_celcius FLOAT,\n",
    "    temperatura_maxima_celcius FLOAT,\n",
    "    presion_hpa INTEGER,\n",
    "    humedad_percent INTEGER,\n",
    "    clima_principal TEXT,\n",
    "    descripcion_del_clima TEXT,\n",
    "    icono_del_clima TEXT,\n",
    "    nubosidad_percent INTEGER,\n",
    "    velocidad_del_viento_m_s FLOAT,\n",
    "    direccion_del_viento_angulo INTEGER,\n",
    "    rafagas_de_viento_m_s FLOAT,\n",
    "    visibilidad_m INTEGER,\n",
    "    probabilidad_de_precipitacion_percent FLOAT,\n",
    "    nieve_3h_en_cm FLOAT,\n",
    "    periodo_del_dia_pod TEXT,\n",
    "    ID_Ciudad INTEGER,\n",
    "    FOREIGN KEY (ID_Ciudad) REFERENCES ciudad_df(id)\n",
    ")\n",
    "''')\n",
    "\n",
    "# Crear la tabla ciudad_df\n",
    "cursor.execute('''\n",
    "CREATE TABLE IF NOT EXISTS ciudad_df (\n",
    "    id INTEGER PRIMARY KEY AUTOINCREMENT,\n",
    "    ciudad_id INTEGER,\n",
    "    nombre TEXT,\n",
    "    latitud FLOAT,\n",
    "    longitud FLOAT,\n",
    "    pais TEXT,\n",
    "    poblacion INTEGER,\n",
    "    zona_horaria INTEGER,\n",
    "    amanecer INTEGER,\n",
    "    atardecer INTEGER\n",
    ")\n",
    "''')\n",
    "\n",
    "# Guardar cambios y cerrar la conexión\n",
    "conn.commit()\n",
    "conn.close()\n"
   ]
  },
  {
   "cell_type": "markdown",
   "metadata": {},
   "source": [
    "# Base de datos NewsAPI\n"
   ]
  },
  {
   "cell_type": "code",
   "execution_count": null,
   "metadata": {},
   "outputs": [],
   "source": [
    "# Conectar a la base de datos (se creará automáticamente si no existe)\n",
    "conn = sqlite3.connect(db_path_newsapi)\n",
    "cursor = conn.cursor()\n",
    "\n",
    "# Crear la tabla ciudad_df\n",
    "cursor.execute('''\n",
    "CREATE TABLE IF NOT EXISTS df_noticias (\n",
    "    id INTEGER PRIMARY KEY AUTOINCREMENT,\n",
    "    sourceid TEXT,\n",
    "    sourcename TEXT,\n",
    "    author_ TEXT,\n",
    "    title_ TEXT,\n",
    "    description_ TEXT,\n",
    "    url_ TEXT,\n",
    "    urlToImage_ TEXT,\n",
    "    publishedAt_ DATETIME,\n",
    "    content_ TEXT\n",
    ")\n",
    "''')\n",
    "\n",
    "# Guardar cambios y cerrar la conexión\n",
    "conn.commit()\n",
    "conn.close()"
   ]
  },
  {
   "cell_type": "markdown",
   "metadata": {},
   "source": [
    "# Base de datos CoinGecko\n"
   ]
  },
  {
   "cell_type": "code",
   "execution_count": 5,
   "metadata": {},
   "outputs": [],
   "source": [
    "# Conectar a la base de datos (se creará automáticamente si no existe)\n",
    "conn = sqlite3.connect(db_path_coingecko)\n",
    "cursor = conn.cursor()\n",
    "\n",
    "# Crear la tabla market_cap_percentage1\n",
    "cursor.execute('''\n",
    "CREATE TABLE IF NOT EXISTS market_cap_percentage1 (\n",
    "    id INTEGER PRIMARY KEY AUTOINCREMENT,\n",
    "    moneda TEXT UNIQUE,\n",
    "    market_cap_percentage FLOAT\n",
    ")\n",
    "''')\n",
    "\n",
    "# Crear la tabla global_data_df\n",
    "cursor.execute('''\n",
    "CREATE TABLE IF NOT EXISTS global_data_df (\n",
    "    id INTEGER PRIMARY KEY AUTOINCREMENT,\n",
    "    market_cap_change_percentage_24h_usd FLOAT,\n",
    "    updated_at INTEGER,\n",
    "    active_cryptocurrencies INTEGER,\n",
    "    upcoming_icos INTEGER,\n",
    "    ongoing_icos INTEGER,\n",
    "    ended_icos INTEGER,\n",
    "    markets INTEGER\n",
    ")\n",
    "''')\n",
    "\n",
    "# Crear la tabla market_cap_df\n",
    "cursor.execute('''\n",
    "CREATE TABLE IF NOT EXISTS market_cap_df (\n",
    "    id INTEGER PRIMARY KEY AUTOINCREMENT,\n",
    "    moneda TEXT UNIQUE,\n",
    "    total_market_cap FLOAT,\n",
    "    total_volume FLOAT\n",
    ")\n",
    "''')\n",
    "\n",
    "# Guardar cambios y cerrar la conexión\n",
    "conn.commit()\n",
    "conn.close()"
   ]
  },
  {
   "cell_type": "markdown",
   "metadata": {},
   "source": [
    "# Base de datos NewsAPI\n"
   ]
  },
  {
   "cell_type": "code",
   "execution_count": 5,
   "metadata": {},
   "outputs": [],
   "source": [
    "# Conectar a la base de datos (se creará automáticamente si no existe)\n",
    "conn = sqlite3.connect(db_path_twitter)\n",
    "cursor = conn.cursor()\n",
    "\n",
    "# Crear la tabla ciudad_df\n",
    "cursor.execute('''\n",
    "CREATE TABLE IF NOT EXISTS df_noticias (\n",
    "    id INTEGER PRIMARY KEY AUTOINCREMENT,\n",
    "    tweet_id TEXT,\n",
    "    tweet_text TEXT,\n",
    "    retweet_user TEXT\n",
    ")\n",
    "''')\n",
    "\n",
    "# Guardar cambios y cerrar la conexión\n",
    "conn.commit()\n",
    "conn.close()"
   ]
  },
  {
   "cell_type": "code",
   "execution_count": null,
   "metadata": {},
   "outputs": [],
   "source": []
  }
 ],
 "metadata": {
  "kernelspec": {
   "display_name": "Python 3",
   "language": "python",
   "name": "python3"
  },
  "language_info": {
   "codemirror_mode": {
    "name": "ipython",
    "version": 3
   },
   "file_extension": ".py",
   "mimetype": "text/x-python",
   "name": "python",
   "nbconvert_exporter": "python",
   "pygments_lexer": "ipython3",
   "version": "3.12.8"
  }
 },
 "nbformat": 4,
 "nbformat_minor": 2
}
