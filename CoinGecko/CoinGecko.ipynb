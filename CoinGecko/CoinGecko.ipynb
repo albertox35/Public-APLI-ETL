{
 "cells": [
  {
   "cell_type": "markdown",
   "metadata": {},
   "source": [
    "# Importar Bibliotecas Necesarias\n",
    "Este bloque de código importa las bibliotecas esenciales para manejar y procesar datos desde un archivo JSON, analizar la información util izando pandas, realizar solicitudes HTTP para obtener datos externos, gestionar directorios locales, crear visualizaciones y manejar bases de datos. Además, establece las rutas locales para los archivos de entrada y salida.\n",
    "\n"
   ]
  },
  {
   "cell_type": "code",
   "execution_count": 12,
   "metadata": {},
   "outputs": [],
   "source": [
    "# Importar las bibliotecas necesarias\n",
    "import json  # Para manejar archivos JSON\n",
    "import pandas as pd  # Para manipulación de datos\n",
    "import requests  # Para realizar solicitudes HTTP\n",
    "import os  # Para gestionar rutas y directorios\n",
    "import matplotlib.pyplot as plt  # Para generar gráficos\n",
    "import sqlite3  # Para interactuar con bases de datos SQLite\n",
    "\n",
    "# Establecer las rutas de los archivos\n",
    "local_path = os.getcwd()  # Obtener el directorio actual\n",
    "file_path = local_path + r\"CoinGecko.json\"  # Ruta del archivo JSON\n",
    "file_path_csv = local_path + r\"CoinGecko_dataframe.csv\"  # Ruta del archivo CSV\n",
    "\n",
    "# Definir el directorio para guardar los gráficos\n",
    "graph_dir = os.path.join(os.getcwd(), \"Graphs\")\n",
    "db_path = os.path.join(os.getcwd(), \"CoinGecko.db\")  # Ruta de la base de datos\n",
    "\n"
   ]
  },
  {
   "cell_type": "markdown",
   "metadata": {},
   "source": [
    "# Extracción\n",
    "Este bloque de código realiza una solicitud GET a un endpoint de CoinGecko para obtener información global del mercado de criptomonedas, verifica si la solicitud fue exitosa y, en caso afirmativo, guarda los datos en un archivo JSON local. Si la solicitud falla, se muestra un mensaje de error con el código de estado.\n",
    "\n"
   ]
  },
  {
   "cell_type": "code",
   "execution_count": 3,
   "metadata": {},
   "outputs": [
    {
     "name": "stdout",
     "output_type": "stream",
     "text": [
      "Datos guardados en c:\\Users\\user\\Documents\\Python_Scripts\\Prueba_APLATAM\\CoinGeckoCoinGecko.json\n"
     ]
    }
   ],
   "source": [
    "\n",
    "# Endpoint para obtener la información global del mercado\n",
    "url = \"https://api.coingecko.com/api/v3/global\"\n",
    "\n",
    "# Realizamos la solicitud GET al endpoint\n",
    "response = requests.get(url)\n",
    "\n",
    "# Verificamos si la solicitud fue exitosa (código 200)\n",
    "if response.status_code == 200:\n",
    "    # Parseamos la respuesta JSON\n",
    "    data = response.json()\n",
    "    \n",
    "    # Aseguramos que la carpeta existe para guardar el archivo\n",
    "    os.makedirs(os.path.dirname(file_path), exist_ok=True)\n",
    "    \n",
    "    # Guardamos los datos en el archivo CoinGecko.json\n",
    "    with open(file_path, \"w\") as json_file:\n",
    "        json.dump(data, json_file, indent=4)\n",
    "    \n",
    "    print(f\"Datos guardados en {file_path}\")  # Confirmación de guardado\n",
    "else:\n",
    "    print(f\"Error: {response.status_code}\")  # Mensaje de error si la solicitud falla\n"
   ]
  },
  {
   "cell_type": "markdown",
   "metadata": {},
   "source": [
    "# Cargar Archivo JSON\n",
    "Este bloque de código carga los datos almacenados previamente en el archivo JSON (CoinGecko.json) y los guarda en una variable llamada data para su posterior uso en el análisis o procesamiento."
   ]
  },
  {
   "cell_type": "code",
   "execution_count": 4,
   "metadata": {},
   "outputs": [],
   "source": [
    "with open(file_path, 'r') as f:\n",
    "    data = json.load(f)\n"
   ]
  },
  {
   "cell_type": "markdown",
   "metadata": {},
   "source": [
    "# Mostrar Contenido del Archivo JSON\n",
    "Este fragmento de código extrae una pequeña muestra de los primeros 5 elementos del archivo JSON para poder echar un vistazo rápido a la estructura y contenido de los datos. Esto resulta útil cuando queremos inspeccionar el archivo de forma ágil sin procesar todo el contenido de una vez.\n",
    "\n"
   ]
  },
  {
   "cell_type": "code",
   "execution_count": 5,
   "metadata": {},
   "outputs": [
    {
     "data": {
      "text/plain": [
       "{'data': {'active_cryptocurrencies': 16457,\n",
       "  'upcoming_icos': 0,\n",
       "  'ongoing_icos': 49,\n",
       "  'ended_icos': 3376,\n",
       "  'markets': 1205,\n",
       "  'total_market_cap': {'btc': 37177399.57246562,\n",
       "   'eth': 1007222642.2737082,\n",
       "   'ltc': 32112652540.800873,\n",
       "   'bch': 7802624301.720322,\n",
       "   'bnb': 5187617347.261401,\n",
       "   'eos': 4039098651661.451,\n",
       "   'xrp': 1533155987399.0347,\n",
       "   'xlm': 8231211466496.609,\n",
       "   'link': 154612709009.45792,\n",
       "   'dot': 473809260441.1388,\n",
       "   'yfi': 413876620.9514622,\n",
       "   'usd': 3697336973989.122,\n",
       "   'aed': 13580318705462.043,\n",
       "   'ars': 3808624968237704.0,\n",
       "   'aud': 5941598333178.675,\n",
       "   'bdt': 448569440348748.3,\n",
       "   'bhd': 1391880990543.0747,\n",
       "   'bmd': 3697336973989.122,\n",
       "   'brl': 22842887292699.594,\n",
       "   'cad': 5324956472656.767,\n",
       "   'chf': 3361751880881.9736,\n",
       "   'clp': 3709921840174392.5,\n",
       "   'cny': 27095934013879.28,\n",
       "   'czk': 90089682441916.34,\n",
       "   'dkk': 26736027838157.23,\n",
       "   'eur': 3584937929979.853,\n",
       "   'gbp': 2972470362901.581,\n",
       "   'gel': 10393210536546.443,\n",
       "   'hkd': 28749660408920.266,\n",
       "   'huf': 1489804960299177.0,\n",
       "   'idr': 5.9900721479337736e+16,\n",
       "   'ils': 13505750813370.63,\n",
       "   'inr': 317298153169885.9,\n",
       "   'jpy': 583280789005601.8,\n",
       "   'krw': 5436976972214626.0,\n",
       "   'kwd': 1139681938210.3027,\n",
       "   'lkr': 1084579704478134.8,\n",
       "   'mmk': 7757012971429176.0,\n",
       "   'mxn': 76370240340797.03,\n",
       "   'myr': 16695325106047.879,\n",
       "   'ngn': 5715757825368363.0,\n",
       "   'nok': 42010233412871.71,\n",
       "   'nzd': 6576612261124.332,\n",
       "   'php': 215861628249743.88,\n",
       "   'pkr': 1028260813949295.0,\n",
       "   'pln': 15303584614309.816,\n",
       "   'rub': 405617310341752.9,\n",
       "   'sar': 13884609538421.35,\n",
       "   'sek': 41046932935005.54,\n",
       "   'sgd': 5065444087789.444,\n",
       "   'thb': 128112726148723.08,\n",
       "   'try': 130734145457955.27,\n",
       "   'twd': 121747760548000.8,\n",
       "   'uah': 155597224397209.78,\n",
       "   'vef': 370214351205.53076,\n",
       "   'vnd': 9.38767934566899e+16,\n",
       "   'zar': 69385819206115.63,\n",
       "   'xdr': 2831087894353.211,\n",
       "   'xag': 125046487622.82414,\n",
       "   'xau': 1403176354.9986117,\n",
       "   'bits': 37177399572465.62,\n",
       "   'sats': 3717739957246562.0},\n",
       "  'total_volume': {'btc': 1047942.1343125742,\n",
       "   'eth': 28391201.579735942,\n",
       "   'ltc': 905179007.3819072,\n",
       "   'bch': 219937350.59511238,\n",
       "   'bnb': 146226547.7791057,\n",
       "   'eos': 113852547795.08572,\n",
       "   'xrp': 43216006932.851006,\n",
       "   'xlm': 232018199534.5115,\n",
       "   'link': 4358163134.982137,\n",
       "   'dot': 13355551850.148394,\n",
       "   'yfi': 11666193.829844221,\n",
       "   'usd': 104219102044.58096,\n",
       "   'aed': 382796761809.7458,\n",
       "   'ars': 107356044906571.73,\n",
       "   'aud': 167479471671.02933,\n",
       "   'bdt': 12644101580859.672,\n",
       "   'bhd': 39233802060.19272,\n",
       "   'bmd': 104219102044.58096,\n",
       "   'brl': 643886456251.8301,\n",
       "   'cad': 150097809832.03406,\n",
       "   'chf': 94759759466.60663,\n",
       "   'clp': 104573839376451.73,\n",
       "   'cny': 763769689333.7115,\n",
       "   'czk': 2539413062328.4644,\n",
       "   'dkk': 753624793502.4879,\n",
       "   'eur': 101050841342.4257,\n",
       "   'gbp': 83786842869.63882,\n",
       "   'gel': 292959791628.2149,\n",
       "   'hkd': 810384288200.7015,\n",
       "   'huf': 41994044977843.45,\n",
       "   'idr': 1688458327795763.5,\n",
       "   'ils': 380694870959.7107,\n",
       "   'inr': 8943877400520.299,\n",
       "   'jpy': 16441292881246.955,\n",
       "   'krw': 153255400269864.62,\n",
       "   'kwd': 32124912890.629807,\n",
       "   'lkr': 30571712476218.77,\n",
       "   'mmk': 218651676089530.8,\n",
       "   'mxn': 2152694744146.9846,\n",
       "   'myr': 470601355282.30524,\n",
       "   'ngn': 161113566941526.53,\n",
       "   'nok': 1184168182065.6313,\n",
       "   'nzd': 185378998228.08405,\n",
       "   'php': 6084623938887.872,\n",
       "   'pkr': 28984217411431.633,\n",
       "   'pln': 431371513547.9903,\n",
       "   'rub': 11433383582548.184,\n",
       "   'sar': 391373993908.0149,\n",
       "   'sek': 1157015041438.0378,\n",
       "   'sgd': 142782775278.62695,\n",
       "   'thb': 3611191885844.73,\n",
       "   'try': 3685083437632.5405,\n",
       "   'twd': 3431778701674.984,\n",
       "   'uah': 4385914273269.613,\n",
       "   'vef': 10435458687.72389,\n",
       "   'vnd': 2646162680250631.5,\n",
       "   'zar': 1955820587401.587,\n",
       "   'xdr': 79801608626.55609,\n",
       "   'xag': 3524761942.3281384,\n",
       "   'xau': 39552191.41693892,\n",
       "   'bits': 1047942134312.5742,\n",
       "   'sats': 104794213431257.42},\n",
       "  'market_cap_percentage': {'btc': 53.27532353887019,\n",
       "   'eth': 11.9619334491399,\n",
       "   'xrp': 3.7440423120506967,\n",
       "   'usdt': 3.712056801531956,\n",
       "   'sol': 2.818297318305933,\n",
       "   'bnb': 2.8120055776118367,\n",
       "   'doge': 1.545135375416736,\n",
       "   'usdc': 1.2327250077054943,\n",
       "   'ada': 1.0561867034007815,\n",
       "   'steth': 0.9563601472056904},\n",
       "  'market_cap_change_percentage_24h_usd': -0.68859657413374,\n",
       "  'updated_at': 1736140650}}"
      ]
     },
     "execution_count": 5,
     "metadata": {},
     "output_type": "execute_result"
    }
   ],
   "source": [
    "# Mostrar una muestra del contenido del archivo JSON cargado\n",
    "muestra_datos_json = {k: data[k] for k in list(data)[:5]}  # Obtener los primeros 5 elementos\n",
    "muestra_datos_json"
   ]
  },
  {
   "cell_type": "markdown",
   "metadata": {},
   "source": [
    "# Exploración\n",
    "Obtener las claves principales del diccionario JSON cargado"
   ]
  },
  {
   "cell_type": "code",
   "execution_count": 6,
   "metadata": {},
   "outputs": [
    {
     "data": {
      "text/plain": [
       "dict_keys(['data'])"
      ]
     },
     "execution_count": 6,
     "metadata": {},
     "output_type": "execute_result"
    }
   ],
   "source": [
    "data.keys()\n"
   ]
  },
  {
   "cell_type": "markdown",
   "metadata": {},
   "source": [
    "Este comando imprime en consola el contenido de la clave 'data' dentro del archivo JSON cargado, mostrando los datos principales que contienen la información de las criptomonedas.\n",
    "\n"
   ]
  },
  {
   "cell_type": "code",
   "execution_count": 7,
   "metadata": {},
   "outputs": [
    {
     "name": "stdout",
     "output_type": "stream",
     "text": [
      "{'active_cryptocurrencies': 16457, 'upcoming_icos': 0, 'ongoing_icos': 49, 'ended_icos': 3376, 'markets': 1205, 'total_market_cap': {'btc': 37177399.57246562, 'eth': 1007222642.2737082, 'ltc': 32112652540.800873, 'bch': 7802624301.720322, 'bnb': 5187617347.261401, 'eos': 4039098651661.451, 'xrp': 1533155987399.0347, 'xlm': 8231211466496.609, 'link': 154612709009.45792, 'dot': 473809260441.1388, 'yfi': 413876620.9514622, 'usd': 3697336973989.122, 'aed': 13580318705462.043, 'ars': 3808624968237704.0, 'aud': 5941598333178.675, 'bdt': 448569440348748.3, 'bhd': 1391880990543.0747, 'bmd': 3697336973989.122, 'brl': 22842887292699.594, 'cad': 5324956472656.767, 'chf': 3361751880881.9736, 'clp': 3709921840174392.5, 'cny': 27095934013879.28, 'czk': 90089682441916.34, 'dkk': 26736027838157.23, 'eur': 3584937929979.853, 'gbp': 2972470362901.581, 'gel': 10393210536546.443, 'hkd': 28749660408920.266, 'huf': 1489804960299177.0, 'idr': 5.9900721479337736e+16, 'ils': 13505750813370.63, 'inr': 317298153169885.9, 'jpy': 583280789005601.8, 'krw': 5436976972214626.0, 'kwd': 1139681938210.3027, 'lkr': 1084579704478134.8, 'mmk': 7757012971429176.0, 'mxn': 76370240340797.03, 'myr': 16695325106047.879, 'ngn': 5715757825368363.0, 'nok': 42010233412871.71, 'nzd': 6576612261124.332, 'php': 215861628249743.88, 'pkr': 1028260813949295.0, 'pln': 15303584614309.816, 'rub': 405617310341752.9, 'sar': 13884609538421.35, 'sek': 41046932935005.54, 'sgd': 5065444087789.444, 'thb': 128112726148723.08, 'try': 130734145457955.27, 'twd': 121747760548000.8, 'uah': 155597224397209.78, 'vef': 370214351205.53076, 'vnd': 9.38767934566899e+16, 'zar': 69385819206115.63, 'xdr': 2831087894353.211, 'xag': 125046487622.82414, 'xau': 1403176354.9986117, 'bits': 37177399572465.62, 'sats': 3717739957246562.0}, 'total_volume': {'btc': 1047942.1343125742, 'eth': 28391201.579735942, 'ltc': 905179007.3819072, 'bch': 219937350.59511238, 'bnb': 146226547.7791057, 'eos': 113852547795.08572, 'xrp': 43216006932.851006, 'xlm': 232018199534.5115, 'link': 4358163134.982137, 'dot': 13355551850.148394, 'yfi': 11666193.829844221, 'usd': 104219102044.58096, 'aed': 382796761809.7458, 'ars': 107356044906571.73, 'aud': 167479471671.02933, 'bdt': 12644101580859.672, 'bhd': 39233802060.19272, 'bmd': 104219102044.58096, 'brl': 643886456251.8301, 'cad': 150097809832.03406, 'chf': 94759759466.60663, 'clp': 104573839376451.73, 'cny': 763769689333.7115, 'czk': 2539413062328.4644, 'dkk': 753624793502.4879, 'eur': 101050841342.4257, 'gbp': 83786842869.63882, 'gel': 292959791628.2149, 'hkd': 810384288200.7015, 'huf': 41994044977843.45, 'idr': 1688458327795763.5, 'ils': 380694870959.7107, 'inr': 8943877400520.299, 'jpy': 16441292881246.955, 'krw': 153255400269864.62, 'kwd': 32124912890.629807, 'lkr': 30571712476218.77, 'mmk': 218651676089530.8, 'mxn': 2152694744146.9846, 'myr': 470601355282.30524, 'ngn': 161113566941526.53, 'nok': 1184168182065.6313, 'nzd': 185378998228.08405, 'php': 6084623938887.872, 'pkr': 28984217411431.633, 'pln': 431371513547.9903, 'rub': 11433383582548.184, 'sar': 391373993908.0149, 'sek': 1157015041438.0378, 'sgd': 142782775278.62695, 'thb': 3611191885844.73, 'try': 3685083437632.5405, 'twd': 3431778701674.984, 'uah': 4385914273269.613, 'vef': 10435458687.72389, 'vnd': 2646162680250631.5, 'zar': 1955820587401.587, 'xdr': 79801608626.55609, 'xag': 3524761942.3281384, 'xau': 39552191.41693892, 'bits': 1047942134312.5742, 'sats': 104794213431257.42}, 'market_cap_percentage': {'btc': 53.27532353887019, 'eth': 11.9619334491399, 'xrp': 3.7440423120506967, 'usdt': 3.712056801531956, 'sol': 2.818297318305933, 'bnb': 2.8120055776118367, 'doge': 1.545135375416736, 'usdc': 1.2327250077054943, 'ada': 1.0561867034007815, 'steth': 0.9563601472056904}, 'market_cap_change_percentage_24h_usd': -0.68859657413374, 'updated_at': 1736140650}\n"
     ]
    }
   ],
   "source": [
    "print (data['data'])"
   ]
  },
  {
   "cell_type": "markdown",
   "metadata": {},
   "source": [
    "# Visualizar Datos del JSON\n",
    "Primero extraemos datos clave relacionados con el mercado, como la capitalización total, volumen y porcentaje de capitalización. Luego, organizamos esos datos en dos DataFrames de pandas con nombres de columnas más legibles. Después, también obtenemos información global como el cambio porcentual del mercado y estadísticas sobre las criptomonedas activas. Finalmente, almacenamos esos datos en un DataFrame separado para su posterior uso."
   ]
  },
  {
   "cell_type": "code",
   "execution_count": 8,
   "metadata": {},
   "outputs": [],
   "source": [
    "\n",
    "# Extraemos los datos de total_market_cap, total_volume y market_cap_percentage\n",
    "total_market_cap = data['data']['total_market_cap']\n",
    "total_volume = data['data']['total_volume']\n",
    "market_cap_percentage = data['data']['market_cap_percentage']\n",
    "\n",
    "# Creamos el primer DataFrame (market_cap_df) con columnas renombradas\n",
    "market_cap_df = pd.DataFrame({\n",
    "    'Moneda': total_market_cap.keys(),\n",
    "    'Total_Market_Cap': total_market_cap.values(),\n",
    "    'Total_Volume': [total_volume.get(currency, None) for currency in total_market_cap.keys()]\n",
    "})\n",
    "\n",
    "# Creamos el DataFrame de market_cap_percentage\n",
    "market_cap_percentage_df = pd.DataFrame({\n",
    "    'Moneda': total_market_cap.keys(),\n",
    "    'Market_Cap_Percentage': [market_cap_percentage.get(currency, None) for currency in total_market_cap.keys()]\n",
    "}).dropna()\n",
    "\n",
    "# Extraemos los datos globales\n",
    "global_data = {\n",
    "    'Market_Cap_Change_Percentage_24h_USD': data['data']['market_cap_change_percentage_24h_usd'],\n",
    "    'Updated_At': data['data']['updated_at'],\n",
    "    'Active_Cryptocurrencies': data['data']['active_cryptocurrencies'],\n",
    "    'Upcoming_ICOs': data['data']['upcoming_icos'],\n",
    "    'Ongoing_ICOs': data['data']['ongoing_icos'],\n",
    "    'Ended_ICOs': data['data']['ended_icos'],\n",
    "    'Markets': data['data']['markets']\n",
    "}\n",
    "\n",
    "# Creamos el DataFrame de datos globales\n",
    "global_data_df = pd.DataFrame([global_data])"
   ]
  },
  {
   "cell_type": "markdown",
   "metadata": {},
   "source": [
    "En este segmento de código, realizamos una evaluación inicial de market_cap_df. Primero, mostramos las primeras 5 filas para tener una idea rápida de cómo luce el conjunto de datos. Luego, generamos un resumen estadístico que nos da una visión general de la distribución numérica de los datos, como los promedios, máximos y mínimos. También consultamos la estructura del DataFrame para confirmar que no haya valores nulos o errores en los tipos de datos. Finalmente, verificamos la existencia de valores nulos en las columnas, lo que es clave para asegurar que los datos estén completos antes de hacer análisis o transformaciones adicionales."
   ]
  },
  {
   "cell_type": "code",
   "execution_count": 9,
   "metadata": {},
   "outputs": [
    {
     "name": "stdout",
     "output_type": "stream",
     "text": [
      "  Moneda  Total_Market_Cap  Total_Volume\n",
      "0    btc      3.717740e+07  1.047942e+06\n",
      "1    eth      1.007223e+09  2.839120e+07\n",
      "2    ltc      3.211265e+10  9.051790e+08\n",
      "3    bch      7.802624e+09  2.199374e+08\n",
      "4    bnb      5.187617e+09  1.462265e+08\n",
      "       Total_Market_Cap  Total_Volume\n",
      "count      6.200000e+01  6.200000e+01\n",
      "mean       3.074814e+15  8.667165e+13\n",
      "std        1.401678e+16  3.950994e+14\n",
      "min        3.717740e+07  1.047942e+06\n",
      "25%        3.069791e+12  8.653007e+10\n",
      "50%        1.599945e+13  4.509864e+11\n",
      "75%        2.007955e+14  5.659947e+12\n",
      "max        9.387679e+16  2.646163e+15\n",
      "<class 'pandas.core.frame.DataFrame'>\n",
      "RangeIndex: 62 entries, 0 to 61\n",
      "Data columns (total 3 columns):\n",
      " #   Column            Non-Null Count  Dtype  \n",
      "---  ------            --------------  -----  \n",
      " 0   Moneda            62 non-null     object \n",
      " 1   Total_Market_Cap  62 non-null     float64\n",
      " 2   Total_Volume      62 non-null     float64\n",
      "dtypes: float64(2), object(1)\n",
      "memory usage: 1.6+ KB\n",
      "None\n",
      "Moneda              0\n",
      "Total_Market_Cap    0\n",
      "Total_Volume        0\n",
      "dtype: int64\n"
     ]
    }
   ],
   "source": [
    "# Ver las primeras 5 filas\n",
    "print(market_cap_df.head())\n",
    "\n",
    "# Resumen estadístico de las columnas numéricas\n",
    "print(market_cap_df.describe())\n",
    "\n",
    "# Ver información del DataFrame (como los tipos de datos y valores no nulos)\n",
    "print(market_cap_df.info())\n",
    "# Verificar si hay valores nulos en el DataFrame\n",
    "print(market_cap_df.isnull().sum())\n",
    "\n",
    "\n"
   ]
  },
  {
   "cell_type": "markdown",
   "metadata": {},
   "source": [
    "Primero, genera dos histogramas para mostrar la distribución de los valores de Total_Market_Cap y Total_Volume, lo que nos permite observar cómo se distribuyen esos valores en el conjunto de datos. Luego, se ordenan los datos en dos formas distintas: primero por volumen (Total_Volume) de mayor a menor, y luego por la capitalización total (Total_Market_Cap), también de mayor a menor. Esto nos ayuda a identificar rápidamente las criptomonedas más relevantes en términos de volumen y capitalización de mercado."
   ]
  },
  {
   "cell_type": "code",
   "execution_count": 10,
   "metadata": {},
   "outputs": [
    {
     "name": "stdout",
     "output_type": "stream",
     "text": [
      "Gráficos y archivos ordenados guardados en: c:\\Users\\user\\Documents\\Python_Scripts\\Prueba_APLATAM\\CoinGecko\\Graphs\n"
     ]
    }
   ],
   "source": [
    "\n",
    "os.makedirs(graph_dir, exist_ok=True)  # Crear el directorio si no existe\n",
    "\n",
    "# Guardar el histograma de 'Total_Market_Cap'\n",
    "plt.figure()\n",
    "market_cap_df['Total_Market_Cap'].hist(bins=20)\n",
    "plt.title('Distribución de Total Market Cap')\n",
    "plt.xlabel('Total Market Cap (USD)')\n",
    "plt.ylabel('Valor')\n",
    "plt.savefig(os.path.join(graph_dir, 'distribucion_total_market_cap.png'))  # Guardar el gráfico\n",
    "plt.close()  # Cerrar la figura para liberar memoria\n",
    "\n",
    "# Guardar el histograma de 'Total_Volume'\n",
    "plt.figure()\n",
    "market_cap_df['Total_Volume'].hist(bins=20)\n",
    "plt.title('Distribución de Total Volume')\n",
    "plt.xlabel('Market Cap Percentage (%)')\n",
    "plt.ylabel('Volumen')\n",
    "plt.savefig(os.path.join(graph_dir, 'distribucion_total_volume.png'))  # Guardar el gráfico\n",
    "plt.close()  # Cerrar la figura para liberar memoria\n",
    "\n",
    "# Ordenar el DataFrame por el volumen más alto y guardarlo\n",
    "sorted_volume_df = market_cap_df.sort_values(by='Total_Volume', ascending=False)\n",
    "sorted_volume_df.to_csv(os.path.join(graph_dir, 'sorted_by_volume.csv'))  # Guardar como archivo CSV\n",
    "\n",
    "# Ordenar el DataFrame por la capitalización más alta y guardarlo\n",
    "sorted_market_cap_df = market_cap_df.sort_values(by='Total_Market_Cap', ascending=False)\n",
    "sorted_market_cap_df.to_csv(os.path.join(graph_dir, 'sorted_by_market_cap.csv'))  # Guardar como archivo CSV\n",
    "\n",
    "# Mensaje de confirmación\n",
    "print(\"Gráficos y archivos ordenados guardados en:\", graph_dir)\n"
   ]
  },
  {
   "cell_type": "markdown",
   "metadata": {},
   "source": [
    "# Transformación y Limpieza\n",
    "\n",
    "Innecesaria"
   ]
  },
  {
   "cell_type": "markdown",
   "metadata": {},
   "source": [
    "# Conclusión\n"
   ]
  },
  {
   "cell_type": "markdown",
   "metadata": {},
   "source": [
    "# Revisión de las tablas finales"
   ]
  },
  {
   "cell_type": "code",
   "execution_count": 11,
   "metadata": {},
   "outputs": [
    {
     "name": "stdout",
     "output_type": "stream",
     "text": [
      "market_cap_percentage1 -\n",
      " Moneda                    object\n",
      "Market_Cap_Percentage    float64\n",
      "dtype: object\n",
      "global_data_df -\n",
      " Market_Cap_Change_Percentage_24h_USD    float64\n",
      "Updated_At                                int64\n",
      "Active_Cryptocurrencies                   int64\n",
      "Upcoming_ICOs                             int64\n",
      "Ongoing_ICOs                              int64\n",
      "Ended_ICOs                                int64\n",
      "Markets                                   int64\n",
      "dtype: object\n",
      "market_cap_df -\n",
      " Moneda               object\n",
      "Total_Market_Cap    float64\n",
      "Total_Volume        float64\n",
      "dtype: object\n"
     ]
    }
   ],
   "source": [
    "print(\"market_cap_percentage1 -\\n\", market_cap_percentage_df.dtypes)\n",
    "\n",
    "print(\"global_data_df -\\n\", global_data_df.dtypes)\n",
    "\n",
    "print(\"market_cap_df -\\n\", market_cap_df.dtypes)"
   ]
  },
  {
   "cell_type": "markdown",
   "metadata": {},
   "source": [
    "# Escritura en tablas de BD"
   ]
  },
  {
   "cell_type": "code",
   "execution_count": 13,
   "metadata": {},
   "outputs": [],
   "source": [
    "# Conectar a la base de datos de CoinGecko\n",
    "conn = sqlite3.connect(db_path)\n",
    "\n",
    "# Inserción de datos del DataFrame market_cap_percentage_df en la tabla market_cap_percentage_df\n",
    "market_cap_percentage_df.to_sql('market_cap_percentage_df', conn, if_exists='append', index=False)\n",
    "\n",
    "# Inserción de datos del DataFrame global_data_df en la tabla global_data_df\n",
    "global_data_df.to_sql('global_data_df', conn, if_exists='replace', index=False)\n",
    "\n",
    "# Inserción de datos del DataFrame market_cap_df en la tabla market_cap_df\n",
    "market_cap_df.to_sql('market_cap_df', conn, if_exists='replace', index=False)\n",
    "\n",
    "# Confirmar los cambios y cerrar la conexión\n",
    "conn.commit()\n"
   ]
  },
  {
   "cell_type": "markdown",
   "metadata": {},
   "source": [
    "# Revisión de escritura en BD"
   ]
  },
  {
   "cell_type": "code",
   "execution_count": 14,
   "metadata": {},
   "outputs": [
    {
     "name": "stdout",
     "output_type": "stream",
     "text": [
      "   Market_Cap_Change_Percentage_24h_USD  Updated_At  Active_Cryptocurrencies  \\\n",
      "0                             -0.688597  1736140650                    16457   \n",
      "\n",
      "   Upcoming_ICOs  Ongoing_ICOs  Ended_ICOs  Markets  \n",
      "0              0            49        3376     1205  \n",
      "   Moneda  Total_Market_Cap  Total_Volume\n",
      "0     btc      3.717740e+07  1.047942e+06\n",
      "1     eth      1.007223e+09  2.839120e+07\n",
      "2     ltc      3.211265e+10  9.051790e+08\n",
      "3     bch      7.802624e+09  2.199374e+08\n",
      "4     bnb      5.187617e+09  1.462265e+08\n",
      "..    ...               ...           ...\n",
      "57    xdr      2.831088e+12  7.980161e+10\n",
      "58    xag      1.250465e+11  3.524762e+09\n",
      "59    xau      1.403176e+09  3.955219e+07\n",
      "60   bits      3.717740e+13  1.047942e+12\n",
      "61   sats      3.717740e+15  1.047942e+14\n",
      "\n",
      "[62 rows x 3 columns]\n"
     ]
    }
   ],
   "source": [
    "# Consulta SQL para obtener todos los registros de la tabla 'prediccion'\n",
    "query_1 = \"SELECT * FROM global_data_df\"\n",
    "query_2 = \"SELECT * FROM market_cap_df\"\n",
    "\n",
    "# Ejecutar la consulta y cargar los resultados en un DataFrame\n",
    "global_data_df_sql = pd.read_sql_query(query_1, conn)\n",
    "market_cap_df_sql = pd.read_sql_query(query_2, conn)\n",
    "\n",
    "# Mostrar los primeros registros\n",
    "print(global_data_df_sql)\n",
    "print(market_cap_df_sql)\n",
    "conn.close()"
   ]
  },
  {
   "cell_type": "code",
   "execution_count": null,
   "metadata": {},
   "outputs": [],
   "source": []
  }
 ],
 "metadata": {
  "kernelspec": {
   "display_name": "Python 3",
   "language": "python",
   "name": "python3"
  },
  "language_info": {
   "codemirror_mode": {
    "name": "ipython",
    "version": 3
   },
   "file_extension": ".py",
   "mimetype": "text/x-python",
   "name": "python",
   "nbconvert_exporter": "python",
   "pygments_lexer": "ipython3",
   "version": "3.12.8"
  }
 },
 "nbformat": 4,
 "nbformat_minor": 2
}
